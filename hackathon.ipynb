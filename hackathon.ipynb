{
 "cells": [
  {
   "cell_type": "code",
   "execution_count": 1,
   "id": "96b3a39f",
   "metadata": {},
   "outputs": [],
   "source": [
    "import pandas as pd\n",
    "from sklearn.metrics import accuracy_score\n",
    "from sklearn.model_selection import train_test_split\n",
    "from sklearn.ensemble import RandomForestClassifier\n",
    "from sklearn import metrics \n",
    "from sklearn.model_selection import GridSearchCV\n",
    "from sklearn.model_selection import KFold\n",
    "from sklearn.model_selection import StratifiedKFold\n",
    "from statistics import mean, stdev\n",
    "from sklearn import preprocessing\n",
    "import matplotlib.pyplot as plt\n",
    "import seaborn as sns\n",
    "from sklearn import metrics "
   ]
  },
  {
   "cell_type": "code",
   "execution_count": 2,
   "id": "63092e77",
   "metadata": {},
   "outputs": [],
   "source": [
    "df_train = pd.read_csv('jm_train.csv')"
   ]
  },
  {
   "cell_type": "code",
   "execution_count": 3,
   "id": "2cc5d988",
   "metadata": {},
   "outputs": [],
   "source": [
    "df_test = pd.read_csv('jm_X_test.csv')"
   ]
  },
  {
   "cell_type": "code",
   "execution_count": 4,
   "id": "9f054e05",
   "metadata": {},
   "outputs": [
    {
     "data": {
      "text/html": [
       "<div>\n",
       "<style scoped>\n",
       "    .dataframe tbody tr th:only-of-type {\n",
       "        vertical-align: middle;\n",
       "    }\n",
       "\n",
       "    .dataframe tbody tr th {\n",
       "        vertical-align: top;\n",
       "    }\n",
       "\n",
       "    .dataframe thead th {\n",
       "        text-align: right;\n",
       "    }\n",
       "</style>\n",
       "<table border=\"1\" class=\"dataframe\">\n",
       "  <thead>\n",
       "    <tr style=\"text-align: right;\">\n",
       "      <th></th>\n",
       "      <th>feature1</th>\n",
       "      <th>feature2</th>\n",
       "      <th>feature3</th>\n",
       "      <th>feature4</th>\n",
       "      <th>feature5</th>\n",
       "      <th>feature6</th>\n",
       "      <th>target</th>\n",
       "    </tr>\n",
       "  </thead>\n",
       "  <tbody>\n",
       "    <tr>\n",
       "      <th>0</th>\n",
       "      <td>0.474335</td>\n",
       "      <td>0.881640</td>\n",
       "      <td>-2.050543</td>\n",
       "      <td>-1.251935</td>\n",
       "      <td>-1.035151</td>\n",
       "      <td>-1.934367</td>\n",
       "      <td>4</td>\n",
       "    </tr>\n",
       "    <tr>\n",
       "      <th>1</th>\n",
       "      <td>-1.034675</td>\n",
       "      <td>1.741801</td>\n",
       "      <td>-1.660629</td>\n",
       "      <td>-1.555989</td>\n",
       "      <td>-0.337553</td>\n",
       "      <td>-2.473838</td>\n",
       "      <td>0</td>\n",
       "    </tr>\n",
       "    <tr>\n",
       "      <th>2</th>\n",
       "      <td>-0.563221</td>\n",
       "      <td>-0.688381</td>\n",
       "      <td>-0.318415</td>\n",
       "      <td>-1.845172</td>\n",
       "      <td>0.352366</td>\n",
       "      <td>-0.912928</td>\n",
       "      <td>1</td>\n",
       "    </tr>\n",
       "    <tr>\n",
       "      <th>3</th>\n",
       "      <td>-1.268179</td>\n",
       "      <td>2.770688</td>\n",
       "      <td>1.054193</td>\n",
       "      <td>2.830389</td>\n",
       "      <td>0.395093</td>\n",
       "      <td>0.677715</td>\n",
       "      <td>3</td>\n",
       "    </tr>\n",
       "    <tr>\n",
       "      <th>4</th>\n",
       "      <td>-1.216380</td>\n",
       "      <td>-0.391267</td>\n",
       "      <td>-2.898931</td>\n",
       "      <td>-0.913074</td>\n",
       "      <td>-2.171857</td>\n",
       "      <td>-2.367490</td>\n",
       "      <td>0</td>\n",
       "    </tr>\n",
       "    <tr>\n",
       "      <th>...</th>\n",
       "      <td>...</td>\n",
       "      <td>...</td>\n",
       "      <td>...</td>\n",
       "      <td>...</td>\n",
       "      <td>...</td>\n",
       "      <td>...</td>\n",
       "      <td>...</td>\n",
       "    </tr>\n",
       "    <tr>\n",
       "      <th>2095</th>\n",
       "      <td>-0.947002</td>\n",
       "      <td>0.174969</td>\n",
       "      <td>-0.180249</td>\n",
       "      <td>0.118236</td>\n",
       "      <td>-0.143420</td>\n",
       "      <td>-0.359509</td>\n",
       "      <td>0</td>\n",
       "    </tr>\n",
       "    <tr>\n",
       "      <th>2096</th>\n",
       "      <td>-1.224148</td>\n",
       "      <td>0.029956</td>\n",
       "      <td>0.536684</td>\n",
       "      <td>0.888406</td>\n",
       "      <td>0.119460</td>\n",
       "      <td>0.378946</td>\n",
       "      <td>1</td>\n",
       "    </tr>\n",
       "    <tr>\n",
       "      <th>2097</th>\n",
       "      <td>-0.847593</td>\n",
       "      <td>1.538574</td>\n",
       "      <td>0.962409</td>\n",
       "      <td>1.966467</td>\n",
       "      <td>0.379934</td>\n",
       "      <td>0.737907</td>\n",
       "      <td>3</td>\n",
       "    </tr>\n",
       "    <tr>\n",
       "      <th>2098</th>\n",
       "      <td>1.472437</td>\n",
       "      <td>1.187695</td>\n",
       "      <td>1.015766</td>\n",
       "      <td>-1.103522</td>\n",
       "      <td>1.586722</td>\n",
       "      <td>0.182569</td>\n",
       "      <td>4</td>\n",
       "    </tr>\n",
       "    <tr>\n",
       "      <th>2099</th>\n",
       "      <td>-0.083489</td>\n",
       "      <td>-1.194784</td>\n",
       "      <td>-0.389204</td>\n",
       "      <td>-2.369081</td>\n",
       "      <td>0.382413</td>\n",
       "      <td>-0.900237</td>\n",
       "      <td>3</td>\n",
       "    </tr>\n",
       "  </tbody>\n",
       "</table>\n",
       "<p>2100 rows × 7 columns</p>\n",
       "</div>"
      ],
      "text/plain": [
       "      feature1  feature2  feature3  feature4  feature5  feature6  target\n",
       "0     0.474335  0.881640 -2.050543 -1.251935 -1.035151 -1.934367       4\n",
       "1    -1.034675  1.741801 -1.660629 -1.555989 -0.337553 -2.473838       0\n",
       "2    -0.563221 -0.688381 -0.318415 -1.845172  0.352366 -0.912928       1\n",
       "3    -1.268179  2.770688  1.054193  2.830389  0.395093  0.677715       3\n",
       "4    -1.216380 -0.391267 -2.898931 -0.913074 -2.171857 -2.367490       0\n",
       "...        ...       ...       ...       ...       ...       ...     ...\n",
       "2095 -0.947002  0.174969 -0.180249  0.118236 -0.143420 -0.359509       0\n",
       "2096 -1.224148  0.029956  0.536684  0.888406  0.119460  0.378946       1\n",
       "2097 -0.847593  1.538574  0.962409  1.966467  0.379934  0.737907       3\n",
       "2098  1.472437  1.187695  1.015766 -1.103522  1.586722  0.182569       4\n",
       "2099 -0.083489 -1.194784 -0.389204 -2.369081  0.382413 -0.900237       3\n",
       "\n",
       "[2100 rows x 7 columns]"
      ]
     },
     "execution_count": 4,
     "metadata": {},
     "output_type": "execute_result"
    }
   ],
   "source": [
    "df_train"
   ]
  },
  {
   "cell_type": "code",
   "execution_count": 5,
   "id": "51209721",
   "metadata": {},
   "outputs": [],
   "source": [
    "# Dividiendo la data en la parte que se va entrenara, 80% y la parte a testear 20%"
   ]
  },
  {
   "cell_type": "code",
   "execution_count": 6,
   "id": "75750e13",
   "metadata": {},
   "outputs": [],
   "source": [
    "X = df_train.drop('target', axis = 1)"
   ]
  },
  {
   "cell_type": "code",
   "execution_count": 7,
   "id": "13eb3199",
   "metadata": {},
   "outputs": [],
   "source": [
    "y = df_train['target']"
   ]
  },
  {
   "cell_type": "code",
   "execution_count": 8,
   "id": "ae24df32",
   "metadata": {},
   "outputs": [],
   "source": [
    "X_train, X_test, y_train, y_test = train_test_split(X, y, test_size = 0.20)"
   ]
  },
  {
   "cell_type": "code",
   "execution_count": 9,
   "id": "543de956",
   "metadata": {},
   "outputs": [],
   "source": [
    "clf = RandomForestClassifier(n_estimators = 800) "
   ]
  },
  {
   "cell_type": "code",
   "execution_count": 10,
   "id": "af39c740",
   "metadata": {},
   "outputs": [],
   "source": [
    "# Definiendo la funcion grid_search que encontrara los mejores parametros del randomforest y se  aplica a X_train"
   ]
  },
  {
   "cell_type": "code",
   "execution_count": 11,
   "id": "c49b63bf",
   "metadata": {},
   "outputs": [],
   "source": [
    "def grid_search(df_train):\n",
    "    param_grid = { \n",
    "        'n_estimators': [100, 400,800,],\n",
    "        'max_features': ['auto', 'sqrt', 'log2'],\n",
    "        'max_depth' : [4,5,6,7,8],\n",
    "        'criterion' :['gini', 'entropy']\n",
    "    }\n",
    "    grid_search_forest = GridSearchCV(clf, param_grid, cv=10, scoring='neg_mean_squared_error')\n",
    "    grid_search_forest.fit(X_train, y_train)\n",
    "    print(grid_search_forest.best_params_)\n",
    "    print(grid_search_forest.best_score_)"
   ]
  },
  {
   "cell_type": "code",
   "execution_count": 12,
   "id": "6135e442",
   "metadata": {},
   "outputs": [
    {
     "name": "stdout",
     "output_type": "stream",
     "text": [
      "{'criterion': 'entropy', 'max_depth': 8, 'max_features': 'sqrt', 'n_estimators': 100}\n",
      "-0.7375\n"
     ]
    }
   ],
   "source": [
    "grid_search(X_train)"
   ]
  },
  {
   "cell_type": "code",
   "execution_count": 13,
   "id": "97b9c5dd",
   "metadata": {},
   "outputs": [],
   "source": [
    "# Se escala X_train para luego aplicar un kfod "
   ]
  },
  {
   "cell_type": "code",
   "execution_count": 14,
   "id": "d3c9fd0c",
   "metadata": {},
   "outputs": [],
   "source": [
    "scaler = preprocessing.MinMaxScaler()\n",
    "x_scaled = scaler.fit_transform(X_train)"
   ]
  },
  {
   "cell_type": "code",
   "execution_count": 16,
   "id": "7f993417",
   "metadata": {},
   "outputs": [],
   "source": [
    "x_scaled = pd.DataFrame(x_scaled)"
   ]
  },
  {
   "cell_type": "code",
   "execution_count": 17,
   "id": "85317a0a",
   "metadata": {},
   "outputs": [],
   "source": [
    "# Se procede a hacer un kfold"
   ]
  },
  {
   "cell_type": "code",
   "execution_count": 18,
   "id": "b356265c",
   "metadata": {},
   "outputs": [],
   "source": [
    "clf = RandomForestClassifier(n_estimators = 800, criterion = 'entropy', max_depth = 8, max_features = 'auto')  \n",
    "skf = StratifiedKFold(n_splits=10, shuffle=True, random_state=1)\n",
    "lst_accu_stratified = []"
   ]
  },
  {
   "cell_type": "code",
   "execution_count": 19,
   "id": "55232d81",
   "metadata": {},
   "outputs": [
    {
     "name": "stdout",
     "output_type": "stream",
     "text": [
      "List of possible accuracy: [0.7321428571428571, 0.7797619047619048, 0.7380952380952381, 0.8154761904761905, 0.7380952380952381, 0.75, 0.7738095238095238, 0.7797619047619048, 0.6964285714285714, 0.7738095238095238]\n",
      "\n",
      "Maximum Accuracy That can be obtained from this model is: 81.54761904761905 %\n",
      "\n",
      "Minimum Accuracy: 69.64285714285714 %\n",
      "\n",
      "Overall Accuracy: 75.77380952380952 %\n",
      "\n",
      "Standard Deviation is: 0.033442988570175865\n",
      "Wall time: 46.1 s\n"
     ]
    }
   ],
   "source": [
    "%%time\n",
    "\n",
    "for train_index, test_index in skf.split(X_train, y_train):\n",
    "    x_train_fold, x_test_fold = X_train.iloc[train_index], X_train.iloc[test_index]\n",
    "    y_train_fold, y_test_fold = y_train.iloc[train_index], y_train.iloc[test_index]\n",
    "    clf.fit(x_train_fold, y_train_fold)\n",
    "    lst_accu_stratified.append(clf.score(x_test_fold, y_test_fold))\n",
    "  \n",
    "# Print the output.\n",
    "print('List of possible accuracy:', lst_accu_stratified)\n",
    "print('\\nMaximum Accuracy That can be obtained from this model is:',\n",
    "      max(lst_accu_stratified)*100, '%')\n",
    "print('\\nMinimum Accuracy:',\n",
    "      min(lst_accu_stratified)*100, '%')\n",
    "print('\\nOverall Accuracy:',\n",
    "      mean(lst_accu_stratified)*100, '%')\n",
    "print('\\nStandard Deviation is:', stdev(lst_accu_stratified))"
   ]
  },
  {
   "cell_type": "code",
   "execution_count": 20,
   "id": "b4c664e6",
   "metadata": {},
   "outputs": [],
   "source": [
    "#  Score de la prediccion sobre X_test"
   ]
  },
  {
   "cell_type": "code",
   "execution_count": 21,
   "id": "18345e6b",
   "metadata": {},
   "outputs": [],
   "source": [
    "y_pred = clf.predict(X_test)"
   ]
  },
  {
   "cell_type": "code",
   "execution_count": 22,
   "id": "dad61231",
   "metadata": {},
   "outputs": [
    {
     "data": {
      "text/plain": [
       "0.7820832696467412"
      ]
     },
     "execution_count": 22,
     "metadata": {},
     "output_type": "execute_result"
    }
   ],
   "source": [
    "f1_score = metrics.f1_score(y_test, y_pred, average='macro')\n",
    "f1_score"
   ]
  },
  {
   "cell_type": "code",
   "execution_count": 23,
   "id": "20a197c7",
   "metadata": {},
   "outputs": [],
   "source": [
    "#  Se aplica el modelo a la data de prueba y se crea el archivo prediction.csv"
   ]
  },
  {
   "cell_type": "code",
   "execution_count": 24,
   "id": "7da3c4af",
   "metadata": {},
   "outputs": [],
   "source": [
    "pred = clf.predict(df_test)"
   ]
  },
  {
   "cell_type": "code",
   "execution_count": 25,
   "id": "c1cc214b",
   "metadata": {},
   "outputs": [],
   "source": [
    "prediction = pd.DataFrame(pred, columns=[\"target\"]).to_csv('prediction.csv', header=True, index = False)"
   ]
  },
  {
   "cell_type": "code",
   "execution_count": 26,
   "id": "bfc2577e",
   "metadata": {},
   "outputs": [
    {
     "ename": "SyntaxError",
     "evalue": "invalid syntax (Temp/ipykernel_11944/13696669.py, line 1)",
     "output_type": "error",
     "traceback": [
      "\u001b[1;36m  File \u001b[1;32m\"C:\\Users\\Asus\\AppData\\Local\\Temp/ipykernel_11944/13696669.py\"\u001b[1;36m, line \u001b[1;32m1\u001b[0m\n\u001b[1;33m    git init\u001b[0m\n\u001b[1;37m        ^\u001b[0m\n\u001b[1;31mSyntaxError\u001b[0m\u001b[1;31m:\u001b[0m invalid syntax\n"
     ]
    }
   ],
   "source": [
    "git init\n",
    "\n",
    "git add .\n",
    "\n",
    "git commit -m \"first commit\"\n",
    "\n",
    "git remote add origin https://github.com/luis00rod/Hackathon_madrid.git\n",
    "\n",
    "git push -u origin master\n"
   ]
  },
  {
   "cell_type": "code",
   "execution_count": null,
   "id": "186f5919",
   "metadata": {},
   "outputs": [],
   "source": []
  }
 ],
 "metadata": {
  "kernelspec": {
   "display_name": "Python 3 (ipykernel)",
   "language": "python",
   "name": "python3"
  },
  "language_info": {
   "codemirror_mode": {
    "name": "ipython",
    "version": 3
   },
   "file_extension": ".py",
   "mimetype": "text/x-python",
   "name": "python",
   "nbconvert_exporter": "python",
   "pygments_lexer": "ipython3",
   "version": "3.8.11"
  }
 },
 "nbformat": 4,
 "nbformat_minor": 5
}
